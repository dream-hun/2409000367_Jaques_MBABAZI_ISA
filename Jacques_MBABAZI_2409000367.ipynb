{
  "nbformat": 4,
  "nbformat_minor": 0,
  "metadata": {
    "colab": {
      "provenance": [],
      "authorship_tag": "ABX9TyPnecIS3oWqgLPhBIertNsQ",
      "include_colab_link": true
    },
    "kernelspec": {
      "name": "python3",
      "display_name": "Python 3"
    },
    "language_info": {
      "name": "python"
    }
  },
  "cells": [
    {
      "cell_type": "markdown",
      "metadata": {
        "id": "view-in-github",
        "colab_type": "text"
      },
      "source": [
        "<a href=\"https://colab.research.google.com/github/dream-hun/2409000367_Jaques_MBABAZI_ISA/blob/main/Jacques_MBABAZI_2409000367.ipynb\" target=\"_parent\"><img src=\"https://colab.research.google.com/assets/colab-badge.svg\" alt=\"Open In Colab\"/></a>"
      ]
    },
    {
      "cell_type": "code",
      "execution_count": null,
      "metadata": {
        "id": "T28ZuKkrQbbe"
      },
      "outputs": [],
      "source": [
        "import requests\n",
        "import json"
      ]
    },
    {
      "cell_type": "code",
      "source": [
        "result=requests.get('https://api.stackexchange.com/2.3/questions?order=desc&sort=activity&site=stackoverflow')\n",
        "print(result.json())"
      ],
      "metadata": {
        "id": "7_KYQpxQSvt6"
      },
      "execution_count": null,
      "outputs": []
    },
    {
      "cell_type": "code",
      "source": [
        "print(result.json()['items'])"
      ],
      "metadata": {
        "id": "NUkEdG6YUBSk"
      },
      "execution_count": null,
      "outputs": []
    },
    {
      "cell_type": "code",
      "source": [
        "for questions in result.json()['items']:\n",
        "\n",
        "  if questions['answer_count'] == 0:\n",
        "\n",
        "    print(questions['title'])\n",
        "    print(questions['link'])\n",
        "  else:\n",
        "    print('It has more than one answer')\n",
        "\n",
        "    print()"
      ],
      "metadata": {
        "id": "FzSWqJqJUU5M"
      },
      "execution_count": null,
      "outputs": []
    }
  ]
}